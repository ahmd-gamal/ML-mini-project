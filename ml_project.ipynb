{
 "cells": [
  {
   "cell_type": "code",
   "execution_count": 1,
   "id": "9f92aaa6",
   "metadata": {
    "execution": {
     "iopub.execute_input": "2022-08-11T17:35:13.338609Z",
     "iopub.status.busy": "2022-08-11T17:35:13.337515Z",
     "iopub.status.idle": "2022-08-11T17:35:13.348032Z",
     "shell.execute_reply": "2022-08-11T17:35:13.346396Z"
    },
    "papermill": {
     "duration": 0.034918,
     "end_time": "2022-08-11T17:35:13.350992",
     "exception": false,
     "start_time": "2022-08-11T17:35:13.316074",
     "status": "completed"
    },
    "tags": []
   },
   "outputs": [],
   "source": [
    "# **Setup and Initialization**"
   ]
  },
  {
   "cell_type": "code",
   "execution_count": 2,
   "id": "5fe4e5a7",
   "metadata": {
    "_cell_guid": "b1076dfc-b9ad-4769-8c92-a6c4dae69d19",
    "_uuid": "8f2839f25d086af736a60e9eeb907d3b93b6e0e5",
    "execution": {
     "iopub.execute_input": "2022-08-11T17:35:13.382354Z",
     "iopub.status.busy": "2022-08-11T17:35:13.381798Z",
     "iopub.status.idle": "2022-08-11T17:35:13.399142Z",
     "shell.execute_reply": "2022-08-11T17:35:13.397633Z"
    },
    "papermill": {
     "duration": 0.036689,
     "end_time": "2022-08-11T17:35:13.403001",
     "exception": false,
     "start_time": "2022-08-11T17:35:13.366312",
     "status": "completed"
    },
    "tags": []
   },
   "outputs": [
    {
     "name": "stdout",
     "output_type": "stream",
     "text": [
      "/kaggle/input/titanic/train.csv\n",
      "/kaggle/input/titanic/test.csv\n",
      "/kaggle/input/titanic/gender_submission.csv\n"
     ]
    }
   ],
   "source": [
    "# This Python 3 environment comes with many helpful analytics libraries installed\n",
    "# It is defined by the kaggle/python Docker image: https://github.com/kaggle/docker-python\n",
    "# For example, here's several helpful packages to load\n",
    "\n",
    "import numpy as np # linear algebra\n",
    "import pandas as pd # data processing, CSV file I/O (e.g. pd.read_csv)\n",
    "\n",
    "\n",
    "# Input data files are available in the read-only \"../input/\" directory\n",
    "# For example, running this (by clicking run or pressing Shift+Enter) will list all files under the input directory\n",
    "\n",
    "import os\n",
    "for dirname, _, filenames in os.walk('/kaggle/input'):\n",
    "    for filename in filenames:\n",
    "        print(os.path.join(dirname, filename))\n",
    "\n",
    "# You can write up to 20GB to the current directory (/kaggle/working/) that gets preserved as output when you create a version using \"Save & Run All\" \n",
    "# You can also write temporary files to /kaggle/temp/, but they won't be saved outside of the current session"
   ]
  },
  {
   "cell_type": "markdown",
   "id": "8af965f8",
   "metadata": {
    "papermill": {
     "duration": 0.013872,
     "end_time": "2022-08-11T17:35:13.431321",
     "exception": false,
     "start_time": "2022-08-11T17:35:13.417449",
     "status": "completed"
    },
    "tags": []
   },
   "source": [
    "# **Collecting the data**\n",
    "Load the train and test dataset from csv file to pandas dataframe"
   ]
  },
  {
   "cell_type": "code",
   "execution_count": 3,
   "id": "74788efe",
   "metadata": {
    "execution": {
     "iopub.execute_input": "2022-08-11T17:35:13.460292Z",
     "iopub.status.busy": "2022-08-11T17:35:13.458761Z",
     "iopub.status.idle": "2022-08-11T17:35:13.506241Z",
     "shell.execute_reply": "2022-08-11T17:35:13.505155Z"
    },
    "papermill": {
     "duration": 0.065202,
     "end_time": "2022-08-11T17:35:13.509018",
     "exception": false,
     "start_time": "2022-08-11T17:35:13.443816",
     "status": "completed"
    },
    "tags": []
   },
   "outputs": [
    {
     "data": {
      "text/html": [
       "<div>\n",
       "<style scoped>\n",
       "    .dataframe tbody tr th:only-of-type {\n",
       "        vertical-align: middle;\n",
       "    }\n",
       "\n",
       "    .dataframe tbody tr th {\n",
       "        vertical-align: top;\n",
       "    }\n",
       "\n",
       "    .dataframe thead th {\n",
       "        text-align: right;\n",
       "    }\n",
       "</style>\n",
       "<table border=\"1\" class=\"dataframe\">\n",
       "  <thead>\n",
       "    <tr style=\"text-align: right;\">\n",
       "      <th></th>\n",
       "      <th>PassengerId</th>\n",
       "      <th>Survived</th>\n",
       "      <th>Pclass</th>\n",
       "      <th>Name</th>\n",
       "      <th>Sex</th>\n",
       "      <th>Age</th>\n",
       "      <th>SibSp</th>\n",
       "      <th>Parch</th>\n",
       "      <th>Ticket</th>\n",
       "      <th>Fare</th>\n",
       "      <th>Cabin</th>\n",
       "      <th>Embarked</th>\n",
       "    </tr>\n",
       "  </thead>\n",
       "  <tbody>\n",
       "    <tr>\n",
       "      <th>0</th>\n",
       "      <td>1</td>\n",
       "      <td>0</td>\n",
       "      <td>3</td>\n",
       "      <td>Braund, Mr. Owen Harris</td>\n",
       "      <td>male</td>\n",
       "      <td>22.0</td>\n",
       "      <td>1</td>\n",
       "      <td>0</td>\n",
       "      <td>A/5 21171</td>\n",
       "      <td>7.2500</td>\n",
       "      <td>NaN</td>\n",
       "      <td>S</td>\n",
       "    </tr>\n",
       "    <tr>\n",
       "      <th>1</th>\n",
       "      <td>2</td>\n",
       "      <td>1</td>\n",
       "      <td>1</td>\n",
       "      <td>Cumings, Mrs. John Bradley (Florence Briggs Th...</td>\n",
       "      <td>female</td>\n",
       "      <td>38.0</td>\n",
       "      <td>1</td>\n",
       "      <td>0</td>\n",
       "      <td>PC 17599</td>\n",
       "      <td>71.2833</td>\n",
       "      <td>C85</td>\n",
       "      <td>C</td>\n",
       "    </tr>\n",
       "    <tr>\n",
       "      <th>2</th>\n",
       "      <td>3</td>\n",
       "      <td>1</td>\n",
       "      <td>3</td>\n",
       "      <td>Heikkinen, Miss. Laina</td>\n",
       "      <td>female</td>\n",
       "      <td>26.0</td>\n",
       "      <td>0</td>\n",
       "      <td>0</td>\n",
       "      <td>STON/O2. 3101282</td>\n",
       "      <td>7.9250</td>\n",
       "      <td>NaN</td>\n",
       "      <td>S</td>\n",
       "    </tr>\n",
       "    <tr>\n",
       "      <th>3</th>\n",
       "      <td>4</td>\n",
       "      <td>1</td>\n",
       "      <td>1</td>\n",
       "      <td>Futrelle, Mrs. Jacques Heath (Lily May Peel)</td>\n",
       "      <td>female</td>\n",
       "      <td>35.0</td>\n",
       "      <td>1</td>\n",
       "      <td>0</td>\n",
       "      <td>113803</td>\n",
       "      <td>53.1000</td>\n",
       "      <td>C123</td>\n",
       "      <td>S</td>\n",
       "    </tr>\n",
       "    <tr>\n",
       "      <th>4</th>\n",
       "      <td>5</td>\n",
       "      <td>0</td>\n",
       "      <td>3</td>\n",
       "      <td>Allen, Mr. William Henry</td>\n",
       "      <td>male</td>\n",
       "      <td>35.0</td>\n",
       "      <td>0</td>\n",
       "      <td>0</td>\n",
       "      <td>373450</td>\n",
       "      <td>8.0500</td>\n",
       "      <td>NaN</td>\n",
       "      <td>S</td>\n",
       "    </tr>\n",
       "  </tbody>\n",
       "</table>\n",
       "</div>"
      ],
      "text/plain": [
       "   PassengerId  Survived  Pclass  \\\n",
       "0            1         0       3   \n",
       "1            2         1       1   \n",
       "2            3         1       3   \n",
       "3            4         1       1   \n",
       "4            5         0       3   \n",
       "\n",
       "                                                Name     Sex   Age  SibSp  \\\n",
       "0                            Braund, Mr. Owen Harris    male  22.0      1   \n",
       "1  Cumings, Mrs. John Bradley (Florence Briggs Th...  female  38.0      1   \n",
       "2                             Heikkinen, Miss. Laina  female  26.0      0   \n",
       "3       Futrelle, Mrs. Jacques Heath (Lily May Peel)  female  35.0      1   \n",
       "4                           Allen, Mr. William Henry    male  35.0      0   \n",
       "\n",
       "   Parch            Ticket     Fare Cabin Embarked  \n",
       "0      0         A/5 21171   7.2500   NaN        S  \n",
       "1      0          PC 17599  71.2833   C85        C  \n",
       "2      0  STON/O2. 3101282   7.9250   NaN        S  \n",
       "3      0            113803  53.1000  C123        S  \n",
       "4      0            373450   8.0500   NaN        S  "
      ]
     },
     "execution_count": 3,
     "metadata": {},
     "output_type": "execute_result"
    }
   ],
   "source": [
    "train_data = pd.read_csv(\"/kaggle/input/titanic/train.csv\")\n",
    "\n",
    "# Printing the first 5 rows of the train dataset.\n",
    "train_data.head()"
   ]
  },
  {
   "cell_type": "markdown",
   "id": "42d33334",
   "metadata": {
    "papermill": {
     "duration": 0.012464,
     "end_time": "2022-08-11T17:35:13.534839",
     "exception": false,
     "start_time": "2022-08-11T17:35:13.522375",
     "status": "completed"
    },
    "tags": []
   },
   "source": [
    "# **Data Analysis**"
   ]
  },
  {
   "cell_type": "code",
   "execution_count": 4,
   "id": "f248d41b",
   "metadata": {
    "execution": {
     "iopub.execute_input": "2022-08-11T17:35:13.562452Z",
     "iopub.status.busy": "2022-08-11T17:35:13.561692Z",
     "iopub.status.idle": "2022-08-11T17:35:13.569562Z",
     "shell.execute_reply": "2022-08-11T17:35:13.568216Z"
    },
    "papermill": {
     "duration": 0.024199,
     "end_time": "2022-08-11T17:35:13.571785",
     "exception": false,
     "start_time": "2022-08-11T17:35:13.547586",
     "status": "completed"
    },
    "tags": []
   },
   "outputs": [
    {
     "data": {
      "text/plain": [
       "(891, 12)"
      ]
     },
     "execution_count": 4,
     "metadata": {},
     "output_type": "execute_result"
    }
   ],
   "source": [
    "# Printing the Total rows and columns of training data\n",
    "train_data.shape"
   ]
  },
  {
   "cell_type": "code",
   "execution_count": 5,
   "id": "fcb2c3a6",
   "metadata": {
    "execution": {
     "iopub.execute_input": "2022-08-11T17:35:13.599153Z",
     "iopub.status.busy": "2022-08-11T17:35:13.598686Z",
     "iopub.status.idle": "2022-08-11T17:35:13.628220Z",
     "shell.execute_reply": "2022-08-11T17:35:13.625992Z"
    },
    "papermill": {
     "duration": 0.046738,
     "end_time": "2022-08-11T17:35:13.631228",
     "exception": false,
     "start_time": "2022-08-11T17:35:13.584490",
     "status": "completed"
    },
    "tags": []
   },
   "outputs": [
    {
     "name": "stdout",
     "output_type": "stream",
     "text": [
      "<class 'pandas.core.frame.DataFrame'>\n",
      "RangeIndex: 891 entries, 0 to 890\n",
      "Data columns (total 12 columns):\n",
      " #   Column       Non-Null Count  Dtype  \n",
      "---  ------       --------------  -----  \n",
      " 0   PassengerId  891 non-null    int64  \n",
      " 1   Survived     891 non-null    int64  \n",
      " 2   Pclass       891 non-null    int64  \n",
      " 3   Name         891 non-null    object \n",
      " 4   Sex          891 non-null    object \n",
      " 5   Age          714 non-null    float64\n",
      " 6   SibSp        891 non-null    int64  \n",
      " 7   Parch        891 non-null    int64  \n",
      " 8   Ticket       891 non-null    object \n",
      " 9   Fare         891 non-null    float64\n",
      " 10  Cabin        204 non-null    object \n",
      " 11  Embarked     889 non-null    object \n",
      "dtypes: float64(2), int64(5), object(5)\n",
      "memory usage: 83.7+ KB\n"
     ]
    }
   ],
   "source": [
    "# getting some information about the training data\n",
    "train_data.info()"
   ]
  },
  {
   "cell_type": "markdown",
   "id": "4da3126e",
   "metadata": {
    "papermill": {
     "duration": 0.012865,
     "end_time": "2022-08-11T17:35:13.657497",
     "exception": false,
     "start_time": "2022-08-11T17:35:13.644632",
     "status": "completed"
    },
    "tags": []
   },
   "source": [
    "so, we can observe that there are some missing values in the table.\n",
    "for example, Age column is missing for many rows.Out of 891 rows, the Age value is present only in 714 rows. "
   ]
  },
  {
   "cell_type": "code",
   "execution_count": 6,
   "id": "5f2b28f7",
   "metadata": {
    "execution": {
     "iopub.execute_input": "2022-08-11T17:35:13.684856Z",
     "iopub.status.busy": "2022-08-11T17:35:13.684419Z",
     "iopub.status.idle": "2022-08-11T17:35:13.696879Z",
     "shell.execute_reply": "2022-08-11T17:35:13.695613Z"
    },
    "papermill": {
     "duration": 0.029301,
     "end_time": "2022-08-11T17:35:13.699520",
     "exception": false,
     "start_time": "2022-08-11T17:35:13.670219",
     "status": "completed"
    },
    "tags": []
   },
   "outputs": [
    {
     "data": {
      "text/plain": [
       "PassengerId      0\n",
       "Survived         0\n",
       "Pclass           0\n",
       "Name             0\n",
       "Sex              0\n",
       "Age            177\n",
       "SibSp            0\n",
       "Parch            0\n",
       "Ticket           0\n",
       "Fare             0\n",
       "Cabin          687\n",
       "Embarked         2\n",
       "dtype: int64"
      ]
     },
     "execution_count": 6,
     "metadata": {},
     "output_type": "execute_result"
    }
   ],
   "source": [
    "# checking the nimber of the missing data in each column [for Training data]\n",
    "train_data.isnull().sum()"
   ]
  },
  {
   "cell_type": "code",
   "execution_count": 7,
   "id": "f9937851",
   "metadata": {
    "execution": {
     "iopub.execute_input": "2022-08-11T17:35:13.727296Z",
     "iopub.status.busy": "2022-08-11T17:35:13.726875Z",
     "iopub.status.idle": "2022-08-11T17:35:13.769660Z",
     "shell.execute_reply": "2022-08-11T17:35:13.768288Z"
    },
    "papermill": {
     "duration": 0.060174,
     "end_time": "2022-08-11T17:35:13.772598",
     "exception": false,
     "start_time": "2022-08-11T17:35:13.712424",
     "status": "completed"
    },
    "tags": []
   },
   "outputs": [
    {
     "data": {
      "text/html": [
       "<div>\n",
       "<style scoped>\n",
       "    .dataframe tbody tr th:only-of-type {\n",
       "        vertical-align: middle;\n",
       "    }\n",
       "\n",
       "    .dataframe tbody tr th {\n",
       "        vertical-align: top;\n",
       "    }\n",
       "\n",
       "    .dataframe thead th {\n",
       "        text-align: right;\n",
       "    }\n",
       "</style>\n",
       "<table border=\"1\" class=\"dataframe\">\n",
       "  <thead>\n",
       "    <tr style=\"text-align: right;\">\n",
       "      <th></th>\n",
       "      <th>PassengerId</th>\n",
       "      <th>Survived</th>\n",
       "      <th>Pclass</th>\n",
       "      <th>Age</th>\n",
       "      <th>SibSp</th>\n",
       "      <th>Parch</th>\n",
       "      <th>Fare</th>\n",
       "    </tr>\n",
       "  </thead>\n",
       "  <tbody>\n",
       "    <tr>\n",
       "      <th>count</th>\n",
       "      <td>891.000000</td>\n",
       "      <td>891.000000</td>\n",
       "      <td>891.000000</td>\n",
       "      <td>714.000000</td>\n",
       "      <td>891.000000</td>\n",
       "      <td>891.000000</td>\n",
       "      <td>891.000000</td>\n",
       "    </tr>\n",
       "    <tr>\n",
       "      <th>mean</th>\n",
       "      <td>446.000000</td>\n",
       "      <td>0.383838</td>\n",
       "      <td>2.308642</td>\n",
       "      <td>29.699118</td>\n",
       "      <td>0.523008</td>\n",
       "      <td>0.381594</td>\n",
       "      <td>32.204208</td>\n",
       "    </tr>\n",
       "    <tr>\n",
       "      <th>std</th>\n",
       "      <td>257.353842</td>\n",
       "      <td>0.486592</td>\n",
       "      <td>0.836071</td>\n",
       "      <td>14.526497</td>\n",
       "      <td>1.102743</td>\n",
       "      <td>0.806057</td>\n",
       "      <td>49.693429</td>\n",
       "    </tr>\n",
       "    <tr>\n",
       "      <th>min</th>\n",
       "      <td>1.000000</td>\n",
       "      <td>0.000000</td>\n",
       "      <td>1.000000</td>\n",
       "      <td>0.420000</td>\n",
       "      <td>0.000000</td>\n",
       "      <td>0.000000</td>\n",
       "      <td>0.000000</td>\n",
       "    </tr>\n",
       "    <tr>\n",
       "      <th>25%</th>\n",
       "      <td>223.500000</td>\n",
       "      <td>0.000000</td>\n",
       "      <td>2.000000</td>\n",
       "      <td>20.125000</td>\n",
       "      <td>0.000000</td>\n",
       "      <td>0.000000</td>\n",
       "      <td>7.910400</td>\n",
       "    </tr>\n",
       "    <tr>\n",
       "      <th>50%</th>\n",
       "      <td>446.000000</td>\n",
       "      <td>0.000000</td>\n",
       "      <td>3.000000</td>\n",
       "      <td>28.000000</td>\n",
       "      <td>0.000000</td>\n",
       "      <td>0.000000</td>\n",
       "      <td>14.454200</td>\n",
       "    </tr>\n",
       "    <tr>\n",
       "      <th>75%</th>\n",
       "      <td>668.500000</td>\n",
       "      <td>1.000000</td>\n",
       "      <td>3.000000</td>\n",
       "      <td>38.000000</td>\n",
       "      <td>1.000000</td>\n",
       "      <td>0.000000</td>\n",
       "      <td>31.000000</td>\n",
       "    </tr>\n",
       "    <tr>\n",
       "      <th>max</th>\n",
       "      <td>891.000000</td>\n",
       "      <td>1.000000</td>\n",
       "      <td>3.000000</td>\n",
       "      <td>80.000000</td>\n",
       "      <td>8.000000</td>\n",
       "      <td>6.000000</td>\n",
       "      <td>512.329200</td>\n",
       "    </tr>\n",
       "  </tbody>\n",
       "</table>\n",
       "</div>"
      ],
      "text/plain": [
       "       PassengerId    Survived      Pclass         Age       SibSp  \\\n",
       "count   891.000000  891.000000  891.000000  714.000000  891.000000   \n",
       "mean    446.000000    0.383838    2.308642   29.699118    0.523008   \n",
       "std     257.353842    0.486592    0.836071   14.526497    1.102743   \n",
       "min       1.000000    0.000000    1.000000    0.420000    0.000000   \n",
       "25%     223.500000    0.000000    2.000000   20.125000    0.000000   \n",
       "50%     446.000000    0.000000    3.000000   28.000000    0.000000   \n",
       "75%     668.500000    1.000000    3.000000   38.000000    1.000000   \n",
       "max     891.000000    1.000000    3.000000   80.000000    8.000000   \n",
       "\n",
       "            Parch        Fare  \n",
       "count  891.000000  891.000000  \n",
       "mean     0.381594   32.204208  \n",
       "std      0.806057   49.693429  \n",
       "min      0.000000    0.000000  \n",
       "25%      0.000000    7.910400  \n",
       "50%      0.000000   14.454200  \n",
       "75%      0.000000   31.000000  \n",
       "max      6.000000  512.329200  "
      ]
     },
     "execution_count": 7,
     "metadata": {},
     "output_type": "execute_result"
    }
   ],
   "source": [
    "#getting some statistical measure about the data\n",
    "train_data.describe()"
   ]
  },
  {
   "cell_type": "markdown",
   "id": "259f1650",
   "metadata": {
    "papermill": {
     "duration": 0.01274,
     "end_time": "2022-08-11T17:35:13.798510",
     "exception": false,
     "start_time": "2022-08-11T17:35:13.785770",
     "status": "completed"
    },
    "tags": []
   },
   "source": [
    "# **Cleanup Data**"
   ]
  },
  {
   "cell_type": "code",
   "execution_count": 8,
   "id": "18e32758",
   "metadata": {
    "execution": {
     "iopub.execute_input": "2022-08-11T17:35:13.826336Z",
     "iopub.status.busy": "2022-08-11T17:35:13.825649Z",
     "iopub.status.idle": "2022-08-11T17:35:13.832973Z",
     "shell.execute_reply": "2022-08-11T17:35:13.832044Z"
    },
    "papermill": {
     "duration": 0.023627,
     "end_time": "2022-08-11T17:35:13.835177",
     "exception": false,
     "start_time": "2022-08-11T17:35:13.811550",
     "status": "completed"
    },
    "tags": []
   },
   "outputs": [],
   "source": [
    "# deleting unnecessary columns from the dataframe\n",
    "train_data.drop(['Name','PassengerId','Ticket'], axis=1, inplace=True)\n",
    "\n",
    "# deleting corrupted ( many missing values) columns from the dataframe\n",
    "train_data.drop(['Cabin'], axis=1, inplace=True)"
   ]
  },
  {
   "cell_type": "code",
   "execution_count": 9,
   "id": "197ae927",
   "metadata": {
    "execution": {
     "iopub.execute_input": "2022-08-11T17:35:13.864888Z",
     "iopub.status.busy": "2022-08-11T17:35:13.864483Z",
     "iopub.status.idle": "2022-08-11T17:35:13.886507Z",
     "shell.execute_reply": "2022-08-11T17:35:13.883863Z"
    },
    "papermill": {
     "duration": 0.039847,
     "end_time": "2022-08-11T17:35:13.889238",
     "exception": false,
     "start_time": "2022-08-11T17:35:13.849391",
     "status": "completed"
    },
    "tags": []
   },
   "outputs": [
    {
     "data": {
      "text/html": [
       "<div>\n",
       "<style scoped>\n",
       "    .dataframe tbody tr th:only-of-type {\n",
       "        vertical-align: middle;\n",
       "    }\n",
       "\n",
       "    .dataframe tbody tr th {\n",
       "        vertical-align: top;\n",
       "    }\n",
       "\n",
       "    .dataframe thead th {\n",
       "        text-align: right;\n",
       "    }\n",
       "</style>\n",
       "<table border=\"1\" class=\"dataframe\">\n",
       "  <thead>\n",
       "    <tr style=\"text-align: right;\">\n",
       "      <th></th>\n",
       "      <th>Survived</th>\n",
       "      <th>Pclass</th>\n",
       "      <th>Sex</th>\n",
       "      <th>Age</th>\n",
       "      <th>SibSp</th>\n",
       "      <th>Parch</th>\n",
       "      <th>Fare</th>\n",
       "      <th>Embarked</th>\n",
       "    </tr>\n",
       "  </thead>\n",
       "  <tbody>\n",
       "    <tr>\n",
       "      <th>0</th>\n",
       "      <td>0</td>\n",
       "      <td>3</td>\n",
       "      <td>male</td>\n",
       "      <td>22.0</td>\n",
       "      <td>1</td>\n",
       "      <td>0</td>\n",
       "      <td>7.2500</td>\n",
       "      <td>S</td>\n",
       "    </tr>\n",
       "    <tr>\n",
       "      <th>1</th>\n",
       "      <td>1</td>\n",
       "      <td>1</td>\n",
       "      <td>female</td>\n",
       "      <td>38.0</td>\n",
       "      <td>1</td>\n",
       "      <td>0</td>\n",
       "      <td>71.2833</td>\n",
       "      <td>C</td>\n",
       "    </tr>\n",
       "    <tr>\n",
       "      <th>2</th>\n",
       "      <td>1</td>\n",
       "      <td>3</td>\n",
       "      <td>female</td>\n",
       "      <td>26.0</td>\n",
       "      <td>0</td>\n",
       "      <td>0</td>\n",
       "      <td>7.9250</td>\n",
       "      <td>S</td>\n",
       "    </tr>\n",
       "    <tr>\n",
       "      <th>3</th>\n",
       "      <td>1</td>\n",
       "      <td>1</td>\n",
       "      <td>female</td>\n",
       "      <td>35.0</td>\n",
       "      <td>1</td>\n",
       "      <td>0</td>\n",
       "      <td>53.1000</td>\n",
       "      <td>S</td>\n",
       "    </tr>\n",
       "    <tr>\n",
       "      <th>4</th>\n",
       "      <td>0</td>\n",
       "      <td>3</td>\n",
       "      <td>male</td>\n",
       "      <td>35.0</td>\n",
       "      <td>0</td>\n",
       "      <td>0</td>\n",
       "      <td>8.0500</td>\n",
       "      <td>S</td>\n",
       "    </tr>\n",
       "  </tbody>\n",
       "</table>\n",
       "</div>"
      ],
      "text/plain": [
       "   Survived  Pclass     Sex   Age  SibSp  Parch     Fare Embarked\n",
       "0         0       3    male  22.0      1      0   7.2500        S\n",
       "1         1       1  female  38.0      1      0  71.2833        C\n",
       "2         1       3  female  26.0      0      0   7.9250        S\n",
       "3         1       1  female  35.0      1      0  53.1000        S\n",
       "4         0       3    male  35.0      0      0   8.0500        S"
      ]
     },
     "execution_count": 9,
     "metadata": {},
     "output_type": "execute_result"
    }
   ],
   "source": [
    "train_data.head()"
   ]
  },
  {
   "cell_type": "markdown",
   "id": "49482967",
   "metadata": {
    "papermill": {
     "duration": 0.018008,
     "end_time": "2022-08-11T17:35:13.921171",
     "exception": false,
     "start_time": "2022-08-11T17:35:13.903163",
     "status": "completed"
    },
    "tags": []
   },
   "source": [
    "# **Chart information for Features**"
   ]
  },
  {
   "cell_type": "code",
   "execution_count": 10,
   "id": "dcc473c5",
   "metadata": {
    "execution": {
     "iopub.execute_input": "2022-08-11T17:35:13.950703Z",
     "iopub.status.busy": "2022-08-11T17:35:13.950309Z",
     "iopub.status.idle": "2022-08-11T17:35:15.332138Z",
     "shell.execute_reply": "2022-08-11T17:35:15.330782Z"
    },
    "papermill": {
     "duration": 1.400147,
     "end_time": "2022-08-11T17:35:15.335092",
     "exception": false,
     "start_time": "2022-08-11T17:35:13.934945",
     "status": "completed"
    },
    "tags": []
   },
   "outputs": [
    {
     "name": "stderr",
     "output_type": "stream",
     "text": [
      "/opt/conda/lib/python3.7/site-packages/seaborn/_decorators.py:43: FutureWarning: Pass the following variable as a keyword arg: x. From version 0.12, the only valid positional argument will be `data`, and passing other arguments without an explicit keyword will result in an error or misinterpretation.\n",
      "  FutureWarning\n"
     ]
    },
    {
     "data": {
      "text/plain": [
       "<AxesSubplot:xlabel='Survived', ylabel='count'>"
      ]
     },
     "execution_count": 10,
     "metadata": {},
     "output_type": "execute_result"
    },
    {
     "data": {
      "image/png": "[encoded data removed]",
      "text/plain": [
       "<Figure size 432x288 with 1 Axes>"
      ]
     },
     "metadata": {
      "needs_background": "light"
     },
     "output_type": "display_data"
    }
   ],
   "source": [
    "# making a chart for survived\n",
    "import seaborn as sns\n",
    "sns.countplot('Survived', data = train_data)"
   ]
  },
  {
   "cell_type": "markdown",
   "id": "08558cbb",
   "metadata": {
    "papermill": {
     "duration": 0.014131,
     "end_time": "2022-08-11T17:35:15.363594",
     "exception": false,
     "start_time": "2022-08-11T17:35:15.349463",
     "status": "completed"
    },
    "tags": []
   },
   "source": []
  },
  {
   "cell_type": "code",
   "execution_count": 11,
   "id": "0a4fa742",
   "metadata": {
    "execution": {
     "iopub.execute_input": "2022-08-11T17:35:15.392278Z",
     "iopub.status.busy": "2022-08-11T17:35:15.391572Z",
     "iopub.status.idle": "2022-08-11T17:35:15.616516Z",
     "shell.execute_reply": "2022-08-11T17:35:15.615284Z"
    },
    "papermill": {
     "duration": 0.242479,
     "end_time": "2022-08-11T17:35:15.619340",
     "exception": false,
     "start_time": "2022-08-11T17:35:15.376861",
     "status": "completed"
    },
    "tags": []
   },
   "outputs": [
    {
     "name": "stderr",
     "output_type": "stream",
     "text": [
      "/opt/conda/lib/python3.7/site-packages/seaborn/_decorators.py:43: FutureWarning: Pass the following variable as a keyword arg: x. From version 0.12, the only valid positional argument will be `data`, and passing other arguments without an explicit keyword will result in an error or misinterpretation.\n",
      "  FutureWarning\n"
     ]
    },
    {
     "data": {
      "text/plain": [
       "<AxesSubplot:xlabel='Sex', ylabel='count'>"
      ]
     },
     "execution_count": 11,
     "metadata": {},
     "output_type": "execute_result"
    },
    {
     "data": {
      "image/png": "[encoded data removed]",
      "text/plain": [
       "<Figure size 432x288 with 1 Axes>"
      ]
     },
     "metadata": {
      "needs_background": "light"
     },
     "output_type": "display_data"
    }
   ],
   "source": [
    "sns.countplot('Sex',hue='Survived', data= train_data)"
   ]
  },
  {
   "cell_type": "markdown",
   "id": "03dc18a5",
   "metadata": {
    "papermill": {
     "duration": 0.014036,
     "end_time": "2022-08-11T17:35:15.647416",
     "exception": false,
     "start_time": "2022-08-11T17:35:15.633380",
     "status": "completed"
    },
    "tags": []
   },
   "source": [
    "The Chart shows that  Women more likely survivied than Men"
   ]
  },
  {
   "cell_type": "code",
   "execution_count": 12,
   "id": "32ea48fd",
   "metadata": {
    "execution": {
     "iopub.execute_input": "2022-08-11T17:35:15.678911Z",
     "iopub.status.busy": "2022-08-11T17:35:15.677795Z",
     "iopub.status.idle": "2022-08-11T17:35:15.861637Z",
     "shell.execute_reply": "2022-08-11T17:35:15.860590Z"
    },
    "papermill": {
     "duration": 0.202173,
     "end_time": "2022-08-11T17:35:15.864301",
     "exception": false,
     "start_time": "2022-08-11T17:35:15.662128",
     "status": "completed"
    },
    "tags": []
   },
   "outputs": [
    {
     "name": "stderr",
     "output_type": "stream",
     "text": [
      "/opt/conda/lib/python3.7/site-packages/seaborn/_decorators.py:43: FutureWarning: Pass the following variable as a keyword arg: x. From version 0.12, the only valid positional argument will be `data`, and passing other arguments without an explicit keyword will result in an error or misinterpretation.\n",
      "  FutureWarning\n"
     ]
    },
    {
     "data": {
      "text/plain": [
       "<AxesSubplot:xlabel='Pclass', ylabel='count'>"
      ]
     },
     "execution_count": 12,
     "metadata": {},
     "output_type": "execute_result"
    },
    {
     "data": {
      "image/png": "[encoded data removed]",
      "text/plain": [
       "<Figure size 432x288 with 1 Axes>"
      ]
     },
     "metadata": {
      "needs_background": "light"
     },
     "output_type": "display_data"
    }
   ],
   "source": [
    "sns.countplot('Pclass',hue='Survived', data= train_data)"
   ]
  },
  {
   "cell_type": "markdown",
   "id": "f5e635e4",
   "metadata": {
    "papermill": {
     "duration": 0.014234,
     "end_time": "2022-08-11T17:35:15.893298",
     "exception": false,
     "start_time": "2022-08-11T17:35:15.879064",
     "status": "completed"
    },
    "tags": []
   },
   "source": [
    "* The Chart shows that the **1st class** more likely survivied than other classes\n",
    "* The Chart shows that the  **3rd class** more likely dead than other classes"
   ]
  },
  {
   "cell_type": "code",
   "execution_count": 13,
   "id": "ee00d24d",
   "metadata": {
    "execution": {
     "iopub.execute_input": "2022-08-11T17:35:15.925039Z",
     "iopub.status.busy": "2022-08-11T17:35:15.924041Z",
     "iopub.status.idle": "2022-08-11T17:35:16.117806Z",
     "shell.execute_reply": "2022-08-11T17:35:16.116091Z"
    },
    "papermill": {
     "duration": 0.213987,
     "end_time": "2022-08-11T17:35:16.121611",
     "exception": false,
     "start_time": "2022-08-11T17:35:15.907624",
     "status": "completed"
    },
    "tags": []
   },
   "outputs": [
    {
     "name": "stderr",
     "output_type": "stream",
     "text": [
      "/opt/conda/lib/python3.7/site-packages/seaborn/_decorators.py:43: FutureWarning: Pass the following variable as a keyword arg: x. From version 0.12, the only valid positional argument will be `data`, and passing other arguments without an explicit keyword will result in an error or misinterpretation.\n",
      "  FutureWarning\n"
     ]
    },
    {
     "data": {
      "text/plain": [
       "<AxesSubplot:xlabel='Embarked', ylabel='count'>"
      ]
     },
     "execution_count": 13,
     "metadata": {},
     "output_type": "execute_result"
    },
    {
     "data": {
      "image/png": "[encoded data removed]",
      "text/plain": [
       "<Figure size 432x288 with 1 Axes>"
      ]
     },
     "metadata": {
      "needs_background": "light"
     },
     "output_type": "display_data"
    }
   ],
   "source": [
    "sns.countplot('Embarked',hue='Survived', data= train_data)"
   ]
  },
  {
   "cell_type": "markdown",
   "id": "f0ecb013",
   "metadata": {
    "papermill": {
     "duration": 0.014541,
     "end_time": "2022-08-11T17:35:16.151183",
     "exception": false,
     "start_time": "2022-08-11T17:35:16.136642",
     "status": "completed"
    },
    "tags": []
   },
   "source": [
    "* The Chart confirms a person aboarded from C slightly more likely survived\n",
    "* The Chart confirms a person aboarded from Q more likely dead\n",
    "* The Chart confirms a person aboarded from S more likely dead"
   ]
  },
  {
   "cell_type": "markdown",
   "id": "7c4de5b0",
   "metadata": {
    "papermill": {
     "duration": 0.014571,
     "end_time": "2022-08-11T17:35:16.180225",
     "exception": false,
     "start_time": "2022-08-11T17:35:16.165654",
     "status": "completed"
    },
    "tags": []
   },
   "source": [
    "# **Replacing the missing values**"
   ]
  },
  {
   "cell_type": "code",
   "execution_count": 14,
   "id": "442ee27c",
   "metadata": {
    "execution": {
     "iopub.execute_input": "2022-08-11T17:35:16.212166Z",
     "iopub.status.busy": "2022-08-11T17:35:16.211688Z",
     "iopub.status.idle": "2022-08-11T17:35:16.228196Z",
     "shell.execute_reply": "2022-08-11T17:35:16.226520Z"
    },
    "papermill": {
     "duration": 0.035824,
     "end_time": "2022-08-11T17:35:16.230725",
     "exception": false,
     "start_time": "2022-08-11T17:35:16.194901",
     "status": "completed"
    },
    "tags": []
   },
   "outputs": [
    {
     "name": "stdout",
     "output_type": "stream",
     "text": [
      "<class 'pandas.core.frame.DataFrame'>\n",
      "RangeIndex: 891 entries, 0 to 890\n",
      "Data columns (total 8 columns):\n",
      " #   Column    Non-Null Count  Dtype  \n",
      "---  ------    --------------  -----  \n",
      " 0   Survived  891 non-null    int64  \n",
      " 1   Pclass    891 non-null    int64  \n",
      " 2   Sex       891 non-null    object \n",
      " 3   Age       891 non-null    float64\n",
      " 4   SibSp     891 non-null    int64  \n",
      " 5   Parch     891 non-null    int64  \n",
      " 6   Fare      891 non-null    float64\n",
      " 7   Embarked  889 non-null    object \n",
      "dtypes: float64(2), int64(4), object(2)\n",
      "memory usage: 55.8+ KB\n"
     ]
    }
   ],
   "source": [
    "# replacing the missing values in age column with mean value\n",
    "\n",
    "train_data['Age'].fillna(train_data['Age'].mean() , inplace=True )\n",
    "train_data.info()"
   ]
  },
  {
   "cell_type": "code",
   "execution_count": 15,
   "id": "bef941b1",
   "metadata": {
    "execution": {
     "iopub.execute_input": "2022-08-11T17:35:16.263639Z",
     "iopub.status.busy": "2022-08-11T17:35:16.262909Z",
     "iopub.status.idle": "2022-08-11T17:35:16.270514Z",
     "shell.execute_reply": "2022-08-11T17:35:16.269049Z"
    },
    "papermill": {
     "duration": 0.026587,
     "end_time": "2022-08-11T17:35:16.273105",
     "exception": false,
     "start_time": "2022-08-11T17:35:16.246518",
     "status": "completed"
    },
    "tags": []
   },
   "outputs": [
    {
     "name": "stdout",
     "output_type": "stream",
     "text": [
      "0      S\n",
      "1      C\n",
      "2      S\n",
      "3      S\n",
      "4      S\n",
      "      ..\n",
      "886    S\n",
      "887    S\n",
      "888    S\n",
      "889    C\n",
      "890    Q\n",
      "Name: Embarked, Length: 891, dtype: object\n"
     ]
    }
   ],
   "source": [
    "# printing the most repeated value and its frist index\n",
    "print(train_data['Embarked'])"
   ]
  },
  {
   "cell_type": "code",
   "execution_count": 16,
   "id": "fa4dc36d",
   "metadata": {
    "execution": {
     "iopub.execute_input": "2022-08-11T17:35:16.305886Z",
     "iopub.status.busy": "2022-08-11T17:35:16.305176Z",
     "iopub.status.idle": "2022-08-11T17:35:16.311425Z",
     "shell.execute_reply": "2022-08-11T17:35:16.310277Z"
    },
    "papermill": {
     "duration": 0.025912,
     "end_time": "2022-08-11T17:35:16.314214",
     "exception": false,
     "start_time": "2022-08-11T17:35:16.288302",
     "status": "completed"
    },
    "tags": []
   },
   "outputs": [],
   "source": [
    "# replacing the missing values with the most repeated value\n",
    "train_data['Embarked'].fillna(train_data['Embarked'].mode()[0] , inplace=True )"
   ]
  },
  {
   "cell_type": "code",
   "execution_count": 17,
   "id": "2ab20eae",
   "metadata": {
    "execution": {
     "iopub.execute_input": "2022-08-11T17:35:16.346605Z",
     "iopub.status.busy": "2022-08-11T17:35:16.346170Z",
     "iopub.status.idle": "2022-08-11T17:35:16.358238Z",
     "shell.execute_reply": "2022-08-11T17:35:16.356849Z"
    },
    "papermill": {
     "duration": 0.031324,
     "end_time": "2022-08-11T17:35:16.360937",
     "exception": false,
     "start_time": "2022-08-11T17:35:16.329613",
     "status": "completed"
    },
    "tags": []
   },
   "outputs": [
    {
     "data": {
      "text/plain": [
       "Survived    0\n",
       "Pclass      0\n",
       "Sex         0\n",
       "Age         0\n",
       "SibSp       0\n",
       "Parch       0\n",
       "Fare        0\n",
       "Embarked    0\n",
       "dtype: int64"
      ]
     },
     "execution_count": 17,
     "metadata": {},
     "output_type": "execute_result"
    }
   ],
   "source": [
    "train_data.isnull().sum()"
   ]
  },
  {
   "cell_type": "markdown",
   "id": "3e9e6f00",
   "metadata": {
    "papermill": {
     "duration": 0.014867,
     "end_time": "2022-08-11T17:35:16.391412",
     "exception": false,
     "start_time": "2022-08-11T17:35:16.376545",
     "status": "completed"
    },
    "tags": []
   },
   "source": [
    "Now, we have no missing values in any column."
   ]
  },
  {
   "cell_type": "markdown",
   "id": "14220b67",
   "metadata": {
    "papermill": {
     "duration": 0.014733,
     "end_time": "2022-08-11T17:35:16.421297",
     "exception": false,
     "start_time": "2022-08-11T17:35:16.406564",
     "status": "completed"
    },
    "tags": []
   },
   "source": [
    "# **Replacing text to numerical**"
   ]
  },
  {
   "cell_type": "code",
   "execution_count": 18,
   "id": "e657bcde",
   "metadata": {
    "execution": {
     "iopub.execute_input": "2022-08-11T17:35:16.454212Z",
     "iopub.status.busy": "2022-08-11T17:35:16.453734Z",
     "iopub.status.idle": "2022-08-11T17:35:16.470039Z",
     "shell.execute_reply": "2022-08-11T17:35:16.468651Z"
    },
    "papermill": {
     "duration": 0.036161,
     "end_time": "2022-08-11T17:35:16.472654",
     "exception": false,
     "start_time": "2022-08-11T17:35:16.436493",
     "status": "completed"
    },
    "tags": []
   },
   "outputs": [
    {
     "data": {
      "text/html": [
       "<div>\n",
       "<style scoped>\n",
       "    .dataframe tbody tr th:only-of-type {\n",
       "        vertical-align: middle;\n",
       "    }\n",
       "\n",
       "    .dataframe tbody tr th {\n",
       "        vertical-align: top;\n",
       "    }\n",
       "\n",
       "    .dataframe thead th {\n",
       "        text-align: right;\n",
       "    }\n",
       "</style>\n",
       "<table border=\"1\" class=\"dataframe\">\n",
       "  <thead>\n",
       "    <tr style=\"text-align: right;\">\n",
       "      <th></th>\n",
       "      <th>Survived</th>\n",
       "      <th>Pclass</th>\n",
       "      <th>Sex</th>\n",
       "      <th>Age</th>\n",
       "      <th>SibSp</th>\n",
       "      <th>Parch</th>\n",
       "      <th>Fare</th>\n",
       "      <th>Embarked</th>\n",
       "    </tr>\n",
       "  </thead>\n",
       "  <tbody>\n",
       "    <tr>\n",
       "      <th>0</th>\n",
       "      <td>0</td>\n",
       "      <td>3</td>\n",
       "      <td>male</td>\n",
       "      <td>22.0</td>\n",
       "      <td>1</td>\n",
       "      <td>0</td>\n",
       "      <td>7.2500</td>\n",
       "      <td>S</td>\n",
       "    </tr>\n",
       "    <tr>\n",
       "      <th>1</th>\n",
       "      <td>1</td>\n",
       "      <td>1</td>\n",
       "      <td>female</td>\n",
       "      <td>38.0</td>\n",
       "      <td>1</td>\n",
       "      <td>0</td>\n",
       "      <td>71.2833</td>\n",
       "      <td>C</td>\n",
       "    </tr>\n",
       "    <tr>\n",
       "      <th>2</th>\n",
       "      <td>1</td>\n",
       "      <td>3</td>\n",
       "      <td>female</td>\n",
       "      <td>26.0</td>\n",
       "      <td>0</td>\n",
       "      <td>0</td>\n",
       "      <td>7.9250</td>\n",
       "      <td>S</td>\n",
       "    </tr>\n",
       "    <tr>\n",
       "      <th>3</th>\n",
       "      <td>1</td>\n",
       "      <td>1</td>\n",
       "      <td>female</td>\n",
       "      <td>35.0</td>\n",
       "      <td>1</td>\n",
       "      <td>0</td>\n",
       "      <td>53.1000</td>\n",
       "      <td>S</td>\n",
       "    </tr>\n",
       "    <tr>\n",
       "      <th>4</th>\n",
       "      <td>0</td>\n",
       "      <td>3</td>\n",
       "      <td>male</td>\n",
       "      <td>35.0</td>\n",
       "      <td>0</td>\n",
       "      <td>0</td>\n",
       "      <td>8.0500</td>\n",
       "      <td>S</td>\n",
       "    </tr>\n",
       "  </tbody>\n",
       "</table>\n",
       "</div>"
      ],
      "text/plain": [
       "   Survived  Pclass     Sex   Age  SibSp  Parch     Fare Embarked\n",
       "0         0       3    male  22.0      1      0   7.2500        S\n",
       "1         1       1  female  38.0      1      0  71.2833        C\n",
       "2         1       3  female  26.0      0      0   7.9250        S\n",
       "3         1       1  female  35.0      1      0  53.1000        S\n",
       "4         0       3    male  35.0      0      0   8.0500        S"
      ]
     },
     "execution_count": 18,
     "metadata": {},
     "output_type": "execute_result"
    }
   ],
   "source": [
    "train_data.head()"
   ]
  },
  {
   "cell_type": "code",
   "execution_count": 19,
   "id": "575c1839",
   "metadata": {
    "execution": {
     "iopub.execute_input": "2022-08-11T17:35:16.506174Z",
     "iopub.status.busy": "2022-08-11T17:35:16.505713Z",
     "iopub.status.idle": "2022-08-11T17:35:16.516384Z",
     "shell.execute_reply": "2022-08-11T17:35:16.514921Z"
    },
    "papermill": {
     "duration": 0.031039,
     "end_time": "2022-08-11T17:35:16.519376",
     "exception": false,
     "start_time": "2022-08-11T17:35:16.488337",
     "status": "completed"
    },
    "tags": []
   },
   "outputs": [],
   "source": [
    "# replacing male with 0 and female with 1\n",
    "train_data.replace({'Sex':{'male':0,'female':1}}, inplace=True)\n",
    "\n",
    "# replacing male with 0 and female with 1\n",
    "train_data.replace({'Embarked':{'S':0,'C':1,'Q':3}}, inplace=True)\n",
    "\n"
   ]
  },
  {
   "cell_type": "code",
   "execution_count": 20,
   "id": "396e0b3d",
   "metadata": {
    "execution": {
     "iopub.execute_input": "2022-08-11T17:35:16.552811Z",
     "iopub.status.busy": "2022-08-11T17:35:16.552360Z",
     "iopub.status.idle": "2022-08-11T17:35:16.568674Z",
     "shell.execute_reply": "2022-08-11T17:35:16.567266Z"
    },
    "papermill": {
     "duration": 0.036187,
     "end_time": "2022-08-11T17:35:16.571393",
     "exception": false,
     "start_time": "2022-08-11T17:35:16.535206",
     "status": "completed"
    },
    "tags": []
   },
   "outputs": [
    {
     "data": {
      "text/html": [
       "<div>\n",
       "<style scoped>\n",
       "    .dataframe tbody tr th:only-of-type {\n",
       "        vertical-align: middle;\n",
       "    }\n",
       "\n",
       "    .dataframe tbody tr th {\n",
       "        vertical-align: top;\n",
       "    }\n",
       "\n",
       "    .dataframe thead th {\n",
       "        text-align: right;\n",
       "    }\n",
       "</style>\n",
       "<table border=\"1\" class=\"dataframe\">\n",
       "  <thead>\n",
       "    <tr style=\"text-align: right;\">\n",
       "      <th></th>\n",
       "      <th>Survived</th>\n",
       "      <th>Pclass</th>\n",
       "      <th>Sex</th>\n",
       "      <th>Age</th>\n",
       "      <th>SibSp</th>\n",
       "      <th>Parch</th>\n",
       "      <th>Fare</th>\n",
       "      <th>Embarked</th>\n",
       "    </tr>\n",
       "  </thead>\n",
       "  <tbody>\n",
       "    <tr>\n",
       "      <th>0</th>\n",
       "      <td>0</td>\n",
       "      <td>3</td>\n",
       "      <td>0</td>\n",
       "      <td>22.0</td>\n",
       "      <td>1</td>\n",
       "      <td>0</td>\n",
       "      <td>7.2500</td>\n",
       "      <td>0</td>\n",
       "    </tr>\n",
       "    <tr>\n",
       "      <th>1</th>\n",
       "      <td>1</td>\n",
       "      <td>1</td>\n",
       "      <td>1</td>\n",
       "      <td>38.0</td>\n",
       "      <td>1</td>\n",
       "      <td>0</td>\n",
       "      <td>71.2833</td>\n",
       "      <td>1</td>\n",
       "    </tr>\n",
       "    <tr>\n",
       "      <th>2</th>\n",
       "      <td>1</td>\n",
       "      <td>3</td>\n",
       "      <td>1</td>\n",
       "      <td>26.0</td>\n",
       "      <td>0</td>\n",
       "      <td>0</td>\n",
       "      <td>7.9250</td>\n",
       "      <td>0</td>\n",
       "    </tr>\n",
       "    <tr>\n",
       "      <th>3</th>\n",
       "      <td>1</td>\n",
       "      <td>1</td>\n",
       "      <td>1</td>\n",
       "      <td>35.0</td>\n",
       "      <td>1</td>\n",
       "      <td>0</td>\n",
       "      <td>53.1000</td>\n",
       "      <td>0</td>\n",
       "    </tr>\n",
       "    <tr>\n",
       "      <th>4</th>\n",
       "      <td>0</td>\n",
       "      <td>3</td>\n",
       "      <td>0</td>\n",
       "      <td>35.0</td>\n",
       "      <td>0</td>\n",
       "      <td>0</td>\n",
       "      <td>8.0500</td>\n",
       "      <td>0</td>\n",
       "    </tr>\n",
       "  </tbody>\n",
       "</table>\n",
       "</div>"
      ],
      "text/plain": [
       "   Survived  Pclass  Sex   Age  SibSp  Parch     Fare  Embarked\n",
       "0         0       3    0  22.0      1      0   7.2500         0\n",
       "1         1       1    1  38.0      1      0  71.2833         1\n",
       "2         1       3    1  26.0      0      0   7.9250         0\n",
       "3         1       1    1  35.0      1      0  53.1000         0\n",
       "4         0       3    0  35.0      0      0   8.0500         0"
      ]
     },
     "execution_count": 20,
     "metadata": {},
     "output_type": "execute_result"
    }
   ],
   "source": [
    "train_data.head()"
   ]
  },
  {
   "cell_type": "markdown",
   "id": "f5e6fafd",
   "metadata": {
    "papermill": {
     "duration": 0.016597,
     "end_time": "2022-08-11T17:35:16.603848",
     "exception": false,
     "start_time": "2022-08-11T17:35:16.587251",
     "status": "completed"
    },
    "tags": []
   },
   "source": [
    "# **Preper the model**"
   ]
  },
  {
   "cell_type": "code",
   "execution_count": 21,
   "id": "12e6500e",
   "metadata": {
    "execution": {
     "iopub.execute_input": "2022-08-11T17:35:16.636964Z",
     "iopub.status.busy": "2022-08-11T17:35:16.636484Z",
     "iopub.status.idle": "2022-08-11T17:35:17.097336Z",
     "shell.execute_reply": "2022-08-11T17:35:17.095771Z"
    },
    "papermill": {
     "duration": 0.480945,
     "end_time": "2022-08-11T17:35:17.100276",
     "exception": false,
     "start_time": "2022-08-11T17:35:16.619331",
     "status": "completed"
    },
    "tags": []
   },
   "outputs": [],
   "source": [
    "import numpy as np\n",
    "from sklearn.model_selection import train_test_split\n",
    "from sklearn.tree import DecisionTreeClassifier\n",
    "from sklearn.neighbors import KNeighborsClassifier\n",
    "from sklearn.ensemble import RandomForestClassifier\n",
    "from sklearn.naive_bayes import GaussianNB\n",
    "from sklearn.svm import SVC\n",
    "from sklearn.linear_model import LogisticRegression\n",
    "from sklearn.metrics import accuracy_score\n",
    "\n",
    "X = train_data.drop('Survived', axis=1)\n",
    "y = train_data['Survived']"
   ]
  },
  {
   "cell_type": "markdown",
   "id": "c4185823",
   "metadata": {
    "papermill": {
     "duration": 0.015984,
     "end_time": "2022-08-11T17:35:17.132696",
     "exception": false,
     "start_time": "2022-08-11T17:35:17.116712",
     "status": "completed"
    },
    "tags": []
   },
   "source": [
    "# **Cross Validation**"
   ]
  },
  {
   "cell_type": "code",
   "execution_count": 22,
   "id": "a13833e8",
   "metadata": {
    "execution": {
     "iopub.execute_input": "2022-08-11T17:35:17.167345Z",
     "iopub.status.busy": "2022-08-11T17:35:17.166905Z",
     "iopub.status.idle": "2022-08-11T17:35:17.173540Z",
     "shell.execute_reply": "2022-08-11T17:35:17.172196Z"
    },
    "papermill": {
     "duration": 0.027576,
     "end_time": "2022-08-11T17:35:17.176502",
     "exception": false,
     "start_time": "2022-08-11T17:35:17.148926",
     "status": "completed"
    },
    "tags": []
   },
   "outputs": [],
   "source": [
    "# K-fold : new concept that i leared in this project form this documentation:\n",
    "# https://scikit-learn.org/stable/modules/generated/sklearn.model_selection.KFold.html\n",
    "from sklearn.model_selection import KFold\n",
    "from sklearn.model_selection import cross_val_score\n",
    "k_fold = KFold(n_splits=10, shuffle=True, random_state=0)\n"
   ]
  },
  {
   "cell_type": "markdown",
   "id": "a12cb389",
   "metadata": {
    "papermill": {
     "duration": 0.01628,
     "end_time": "2022-08-11T17:35:17.209071",
     "exception": false,
     "start_time": "2022-08-11T17:35:17.192791",
     "status": "completed"
    },
    "tags": []
   },
   "source": [
    "# **Decision Tree Classifier**"
   ]
  },
  {
   "cell_type": "code",
   "execution_count": 23,
   "id": "558f23fd",
   "metadata": {
    "execution": {
     "iopub.execute_input": "2022-08-11T17:35:17.243837Z",
     "iopub.status.busy": "2022-08-11T17:35:17.243409Z",
     "iopub.status.idle": "2022-08-11T17:35:17.329506Z",
     "shell.execute_reply": "2022-08-11T17:35:17.327990Z"
    },
    "papermill": {
     "duration": 0.106986,
     "end_time": "2022-08-11T17:35:17.332532",
     "exception": false,
     "start_time": "2022-08-11T17:35:17.225546",
     "status": "completed"
    },
    "tags": []
   },
   "outputs": [
    {
     "name": "stdout",
     "output_type": "stream",
     "text": [
      "[0.75555556 0.83146067 0.78651685 0.75280899 0.78651685 0.78651685\n",
      " 0.7752809  0.74157303 0.71910112 0.74157303]\n"
     ]
    }
   ],
   "source": [
    "tree = DecisionTreeClassifier()\n",
    "scoring = 'accuracy'\n",
    "score = cross_val_score(tree, X, y, cv=k_fold, n_jobs=1, scoring=scoring)\n",
    "print(score)"
   ]
  },
  {
   "cell_type": "code",
   "execution_count": 24,
   "id": "c4d541e4",
   "metadata": {
    "execution": {
     "iopub.execute_input": "2022-08-11T17:35:17.366659Z",
     "iopub.status.busy": "2022-08-11T17:35:17.366035Z",
     "iopub.status.idle": "2022-08-11T17:35:17.372808Z",
     "shell.execute_reply": "2022-08-11T17:35:17.371607Z"
    },
    "papermill": {
     "duration": 0.026966,
     "end_time": "2022-08-11T17:35:17.375527",
     "exception": false,
     "start_time": "2022-08-11T17:35:17.348561",
     "status": "completed"
    },
    "tags": []
   },
   "outputs": [
    {
     "data": {
      "text/plain": [
       "0.77"
      ]
     },
     "execution_count": 24,
     "metadata": {},
     "output_type": "execute_result"
    }
   ],
   "source": [
    "round(np.mean(score), 2)"
   ]
  },
  {
   "cell_type": "markdown",
   "id": "0af0ff94",
   "metadata": {
    "papermill": {
     "duration": 0.016387,
     "end_time": "2022-08-11T17:35:17.408039",
     "exception": false,
     "start_time": "2022-08-11T17:35:17.391652",
     "status": "completed"
    },
    "tags": []
   },
   "source": [
    "# **Nearest Neighbors Classifier**"
   ]
  },
  {
   "cell_type": "code",
   "execution_count": 25,
   "id": "c0de6a62",
   "metadata": {
    "execution": {
     "iopub.execute_input": "2022-08-11T17:35:17.443280Z",
     "iopub.status.busy": "2022-08-11T17:35:17.442638Z",
     "iopub.status.idle": "2022-08-11T17:35:17.554773Z",
     "shell.execute_reply": "2022-08-11T17:35:17.553291Z"
    },
    "papermill": {
     "duration": 0.133149,
     "end_time": "2022-08-11T17:35:17.557786",
     "exception": false,
     "start_time": "2022-08-11T17:35:17.424637",
     "status": "completed"
    },
    "tags": []
   },
   "outputs": [
    {
     "name": "stdout",
     "output_type": "stream",
     "text": [
      "[0.75555556 0.79775281 0.70786517 0.66292135 0.71910112 0.71910112\n",
      " 0.73033708 0.75280899 0.71910112 0.74157303]\n"
     ]
    }
   ],
   "source": [
    "knn = KNeighborsClassifier(n_neighbors = 9)\n",
    "scoring = 'accuracy'\n",
    "score = cross_val_score(knn, X, y, cv=k_fold, n_jobs=1, scoring=scoring)\n",
    "print(score)"
   ]
  },
  {
   "cell_type": "code",
   "execution_count": 26,
   "id": "5a0afd2b",
   "metadata": {
    "execution": {
     "iopub.execute_input": "2022-08-11T17:35:17.596830Z",
     "iopub.status.busy": "2022-08-11T17:35:17.595981Z",
     "iopub.status.idle": "2022-08-11T17:35:17.606140Z",
     "shell.execute_reply": "2022-08-11T17:35:17.605076Z"
    },
    "papermill": {
     "duration": 0.033628,
     "end_time": "2022-08-11T17:35:17.609650",
     "exception": false,
     "start_time": "2022-08-11T17:35:17.576022",
     "status": "completed"
    },
    "tags": []
   },
   "outputs": [
    {
     "data": {
      "text/plain": [
       "0.73"
      ]
     },
     "execution_count": 26,
     "metadata": {},
     "output_type": "execute_result"
    }
   ],
   "source": [
    "round(np.mean(score), 2)"
   ]
  },
  {
   "cell_type": "markdown",
   "id": "74bf0e4a",
   "metadata": {
    "papermill": {
     "duration": 0.018162,
     "end_time": "2022-08-11T17:35:17.651384",
     "exception": false,
     "start_time": "2022-08-11T17:35:17.633222",
     "status": "completed"
    },
    "tags": []
   },
   "source": [
    "# **Random Forest Classifier**"
   ]
  },
  {
   "cell_type": "code",
   "execution_count": 27,
   "id": "69d69fe5",
   "metadata": {
    "execution": {
     "iopub.execute_input": "2022-08-11T17:35:17.693628Z",
     "iopub.status.busy": "2022-08-11T17:35:17.692458Z",
     "iopub.status.idle": "2022-08-11T17:35:18.078698Z",
     "shell.execute_reply": "2022-08-11T17:35:18.077285Z"
    },
    "papermill": {
     "duration": 0.409355,
     "end_time": "2022-08-11T17:35:18.083438",
     "exception": false,
     "start_time": "2022-08-11T17:35:17.674083",
     "status": "completed"
    },
    "tags": []
   },
   "outputs": [
    {
     "name": "stdout",
     "output_type": "stream",
     "text": [
      "[0.75555556 0.83146067 0.76404494 0.7752809  0.82022472 0.79775281\n",
      " 0.80898876 0.7752809  0.76404494 0.82022472]\n"
     ]
    }
   ],
   "source": [
    "rand = RandomForestClassifier(n_estimators=12)\n",
    "scoring = 'accuracy'\n",
    "score = cross_val_score(rand, X, y, cv=k_fold, n_jobs=1, scoring=scoring)\n",
    "print(score)"
   ]
  },
  {
   "cell_type": "code",
   "execution_count": 28,
   "id": "1d7765d2",
   "metadata": {
    "execution": {
     "iopub.execute_input": "2022-08-11T17:35:18.120986Z",
     "iopub.status.busy": "2022-08-11T17:35:18.119635Z",
     "iopub.status.idle": "2022-08-11T17:35:18.131284Z",
     "shell.execute_reply": "2022-08-11T17:35:18.130104Z"
    },
    "papermill": {
     "duration": 0.033217,
     "end_time": "2022-08-11T17:35:18.134257",
     "exception": false,
     "start_time": "2022-08-11T17:35:18.101040",
     "status": "completed"
    },
    "tags": []
   },
   "outputs": [
    {
     "data": {
      "text/plain": [
       "0.79"
      ]
     },
     "execution_count": 28,
     "metadata": {},
     "output_type": "execute_result"
    }
   ],
   "source": [
    "round(np.mean(score), 2)"
   ]
  },
  {
   "cell_type": "markdown",
   "id": "5475a1eb",
   "metadata": {
    "papermill": {
     "duration": 0.01695,
     "end_time": "2022-08-11T17:35:18.169349",
     "exception": false,
     "start_time": "2022-08-11T17:35:18.152399",
     "status": "completed"
    },
    "tags": []
   },
   "source": [
    "# **Naive Bayes Classifier**"
   ]
  },
  {
   "cell_type": "code",
   "execution_count": 29,
   "id": "bb769dec",
   "metadata": {
    "execution": {
     "iopub.execute_input": "2022-08-11T17:35:18.204490Z",
     "iopub.status.busy": "2022-08-11T17:35:18.204109Z",
     "iopub.status.idle": "2022-08-11T17:35:18.276819Z",
     "shell.execute_reply": "2022-08-11T17:35:18.275422Z"
    },
    "papermill": {
     "duration": 0.094646,
     "end_time": "2022-08-11T17:35:18.280701",
     "exception": false,
     "start_time": "2022-08-11T17:35:18.186055",
     "status": "completed"
    },
    "tags": []
   },
   "outputs": [
    {
     "name": "stdout",
     "output_type": "stream",
     "text": [
      "[0.8        0.78651685 0.7752809  0.75280899 0.78651685 0.78651685\n",
      " 0.7752809  0.82022472 0.79775281 0.80898876]\n"
     ]
    }
   ],
   "source": [
    "naive = GaussianNB()\n",
    "scoring = 'accuracy'\n",
    "score = cross_val_score(naive, X, y, cv=k_fold, n_jobs=1, scoring=scoring)\n",
    "print(score)"
   ]
  },
  {
   "cell_type": "code",
   "execution_count": 30,
   "id": "7c8945df",
   "metadata": {
    "execution": {
     "iopub.execute_input": "2022-08-11T17:35:18.323896Z",
     "iopub.status.busy": "2022-08-11T17:35:18.322636Z",
     "iopub.status.idle": "2022-08-11T17:35:18.332201Z",
     "shell.execute_reply": "2022-08-11T17:35:18.330897Z"
    },
    "papermill": {
     "duration": 0.030153,
     "end_time": "2022-08-11T17:35:18.334711",
     "exception": false,
     "start_time": "2022-08-11T17:35:18.304558",
     "status": "completed"
    },
    "tags": []
   },
   "outputs": [
    {
     "data": {
      "text/plain": [
       "0.79"
      ]
     },
     "execution_count": 30,
     "metadata": {},
     "output_type": "execute_result"
    }
   ],
   "source": [
    "round(np.mean(score), 2)"
   ]
  },
  {
   "cell_type": "markdown",
   "id": "c5f8248d",
   "metadata": {
    "papermill": {
     "duration": 0.035196,
     "end_time": "2022-08-11T17:35:18.387356",
     "exception": false,
     "start_time": "2022-08-11T17:35:18.352160",
     "status": "completed"
    },
    "tags": []
   },
   "source": [
    "# **Support vector machine Classifier**"
   ]
  },
  {
   "cell_type": "code",
   "execution_count": 31,
   "id": "405d6fad",
   "metadata": {
    "execution": {
     "iopub.execute_input": "2022-08-11T17:35:18.423873Z",
     "iopub.status.busy": "2022-08-11T17:35:18.422805Z",
     "iopub.status.idle": "2022-08-11T17:35:18.792928Z",
     "shell.execute_reply": "2022-08-11T17:35:18.791684Z"
    },
    "papermill": {
     "duration": 0.392196,
     "end_time": "2022-08-11T17:35:18.796691",
     "exception": false,
     "start_time": "2022-08-11T17:35:18.404495",
     "status": "completed"
    },
    "tags": []
   },
   "outputs": [
    {
     "name": "stdout",
     "output_type": "stream",
     "text": [
      "[0.66666667 0.78651685 0.68539326 0.58426966 0.75280899 0.70786517\n",
      " 0.70786517 0.68539326 0.59550562 0.62921348]\n"
     ]
    }
   ],
   "source": [
    "support= SVC()\n",
    "scoring = 'accuracy'\n",
    "score = cross_val_score(support, X, y, cv=k_fold, n_jobs=1, scoring=scoring)\n",
    "print(score)"
   ]
  },
  {
   "cell_type": "code",
   "execution_count": 32,
   "id": "10cb8d9f",
   "metadata": {
    "execution": {
     "iopub.execute_input": "2022-08-11T17:35:18.831757Z",
     "iopub.status.busy": "2022-08-11T17:35:18.831354Z",
     "iopub.status.idle": "2022-08-11T17:35:18.839696Z",
     "shell.execute_reply": "2022-08-11T17:35:18.838207Z"
    },
    "papermill": {
     "duration": 0.028883,
     "end_time": "2022-08-11T17:35:18.842367",
     "exception": false,
     "start_time": "2022-08-11T17:35:18.813484",
     "status": "completed"
    },
    "tags": []
   },
   "outputs": [
    {
     "data": {
      "text/plain": [
       "0.68"
      ]
     },
     "execution_count": 32,
     "metadata": {},
     "output_type": "execute_result"
    }
   ],
   "source": [
    "round(np.mean(score), 2)"
   ]
  },
  {
   "cell_type": "markdown",
   "id": "ea8a6855",
   "metadata": {
    "papermill": {
     "duration": 0.016269,
     "end_time": "2022-08-11T17:35:18.875387",
     "exception": false,
     "start_time": "2022-08-11T17:35:18.859118",
     "status": "completed"
    },
    "tags": []
   },
   "source": [
    "# **Logistic Regression Classifier**"
   ]
  },
  {
   "cell_type": "code",
   "execution_count": 33,
   "id": "b4b33000",
   "metadata": {
    "execution": {
     "iopub.execute_input": "2022-08-11T17:35:18.910683Z",
     "iopub.status.busy": "2022-08-11T17:35:18.910270Z",
     "iopub.status.idle": "2022-08-11T17:35:19.344341Z",
     "shell.execute_reply": "2022-08-11T17:35:19.343069Z"
    },
    "papermill": {
     "duration": 0.455793,
     "end_time": "2022-08-11T17:35:19.347970",
     "exception": false,
     "start_time": "2022-08-11T17:35:18.892177",
     "status": "completed"
    },
    "tags": []
   },
   "outputs": [
    {
     "name": "stdout",
     "output_type": "stream",
     "text": [
      "[0.8        0.79775281 0.78651685 0.78651685 0.78651685 0.79775281\n",
      " 0.75280899 0.83146067 0.79775281 0.84269663]\n"
     ]
    }
   ],
   "source": [
    "#source : https://scikit-learn.org/stable/modules/generated/sklearn.linear_model.LogisticRegression.html\n",
    "reg=LogisticRegression(max_iter=150)\n",
    "scoring = 'accuracy'\n",
    "score = cross_val_score(reg, X, y, cv=k_fold, n_jobs=1, scoring=scoring)\n",
    "print(score)"
   ]
  },
  {
   "cell_type": "code",
   "execution_count": 34,
   "id": "e884aa81",
   "metadata": {
    "execution": {
     "iopub.execute_input": "2022-08-11T17:35:19.384941Z",
     "iopub.status.busy": "2022-08-11T17:35:19.384255Z",
     "iopub.status.idle": "2022-08-11T17:35:19.391989Z",
     "shell.execute_reply": "2022-08-11T17:35:19.390941Z"
    },
    "papermill": {
     "duration": 0.028312,
     "end_time": "2022-08-11T17:35:19.394391",
     "exception": false,
     "start_time": "2022-08-11T17:35:19.366079",
     "status": "completed"
    },
    "tags": []
   },
   "outputs": [
    {
     "data": {
      "text/plain": [
       "0.8"
      ]
     },
     "execution_count": 34,
     "metadata": {},
     "output_type": "execute_result"
    }
   ],
   "source": [
    "round(np.mean(score), 2)"
   ]
  },
  {
   "cell_type": "markdown",
   "id": "3c829320",
   "metadata": {
    "papermill": {
     "duration": 0.016627,
     "end_time": "2022-08-11T17:35:19.427887",
     "exception": false,
     "start_time": "2022-08-11T17:35:19.411260",
     "status": "completed"
    },
    "tags": []
   },
   "source": [
    "***the most accurate classifier is RandomForestClassifier with accuracy of 81%***"
   ]
  },
  {
   "cell_type": "markdown",
   "id": "34375b9d",
   "metadata": {
    "papermill": {
     "duration": 0.016654,
     "end_time": "2022-08-11T17:35:19.461968",
     "exception": false,
     "start_time": "2022-08-11T17:35:19.445314",
     "status": "completed"
    },
    "tags": []
   },
   "source": [
    "# **Another Way to implement a classifier**"
   ]
  },
  {
   "cell_type": "code",
   "execution_count": 35,
   "id": "c2befd18",
   "metadata": {
    "execution": {
     "iopub.execute_input": "2022-08-11T17:35:19.497679Z",
     "iopub.status.busy": "2022-08-11T17:35:19.497277Z",
     "iopub.status.idle": "2022-08-11T17:35:19.550599Z",
     "shell.execute_reply": "2022-08-11T17:35:19.548874Z"
    },
    "papermill": {
     "duration": 0.074496,
     "end_time": "2022-08-11T17:35:19.553414",
     "exception": false,
     "start_time": "2022-08-11T17:35:19.478918",
     "status": "completed"
    },
    "tags": []
   },
   "outputs": [
    {
     "name": "stdout",
     "output_type": "stream",
     "text": [
      "0.8089887640449438\n",
      "0.7821229050279329\n"
     ]
    }
   ],
   "source": [
    "# Implementing on Logistic Regression Classifier. this way can run on any previous classifier\n",
    "# source : https://scikit-learn.org/stable/modules/generated/sklearn.model_selection.train_test_split.html\n",
    "\n",
    "# spliting the data\n",
    "X_train , X_test , y_train , y_test = train_test_split(X,y,test_size=0.2, random_state=2)\n",
    "\n",
    "log_reg =LogisticRegression()\n",
    "#traing the the model with training data\n",
    "log_reg.fit(X_train,y_train)\n",
    "\n",
    "# prediction the train data\n",
    "X_train_pred=log_reg.predict(X_train)\n",
    "\n",
    "# acuracy of the model \n",
    "accuracy_model_train = accuracy_score(y_train,X_train_pred)\n",
    "#accuracy_model_train= round(np.mean(accuracy_model_train), 2)\n",
    "print(accuracy_model_train)\n",
    "\n",
    "# prediction the test data\n",
    "X_test_pred=log_reg.predict(X_test)\n",
    "\n",
    "# acuracy of the model \n",
    "accuracy_model_test = accuracy_score(y_test,X_test_pred)\n",
    "#accuracy_model_test= round(np.mean(accuracy_model_test), 2)\n",
    "print(accuracy_model_test)"
   ]
  },
  {
   "cell_type": "markdown",
   "id": "6d3c122d",
   "metadata": {
    "papermill": {
     "duration": 0.017134,
     "end_time": "2022-08-11T17:35:19.588090",
     "exception": false,
     "start_time": "2022-08-11T17:35:19.570956",
     "status": "completed"
    },
    "tags": []
   },
   "source": [
    "observation : when changing random_state , accuracy will change.\n",
    "Ex: \n",
    "random_state=1\n",
    "output :\n",
    "0.7991573033707865\n",
    "0.7988826815642458"
   ]
  },
  {
   "cell_type": "markdown",
   "id": "bbfb9a2c",
   "metadata": {
    "papermill": {
     "duration": 0.017145,
     "end_time": "2022-08-11T17:35:19.622716",
     "exception": false,
     "start_time": "2022-08-11T17:35:19.605571",
     "status": "completed"
    },
    "tags": []
   },
   "source": [
    "# **Deep Neural Networks**"
   ]
  },
  {
   "cell_type": "code",
   "execution_count": 36,
   "id": "12e72db7",
   "metadata": {
    "execution": {
     "iopub.execute_input": "2022-08-11T17:35:19.658898Z",
     "iopub.status.busy": "2022-08-11T17:35:19.658477Z",
     "iopub.status.idle": "2022-08-11T17:35:29.846178Z",
     "shell.execute_reply": "2022-08-11T17:35:29.844683Z"
    },
    "papermill": {
     "duration": 10.209175,
     "end_time": "2022-08-11T17:35:29.849024",
     "exception": false,
     "start_time": "2022-08-11T17:35:19.639849",
     "status": "completed"
    },
    "tags": []
   },
   "outputs": [
    {
     "name": "stderr",
     "output_type": "stream",
     "text": [
      "2022-08-11 17:35:26.573100: I tensorflow/core/common_runtime/process_util.cc:146] Creating new thread pool with default inter op setting: 2. Tune using inter_op_parallelism_threads for best performance.\n",
      "2022-08-11 17:35:26.813829: I tensorflow/compiler/mlir/mlir_graph_optimization_pass.cc:185] None of the MLIR Optimization Passes are enabled (registered 2)\n"
     ]
    },
    {
     "name": "stdout",
     "output_type": "stream",
     "text": [
      "Epoch 1/200\n",
      "2/2 [==============================] - 2s 325ms/step - loss: 0.8352 - binary_accuracy: 0.5478 - val_loss: 0.8208 - val_binary_accuracy: 0.4413\n",
      "Epoch 2/200\n",
      "2/2 [==============================] - 0s 44ms/step - loss: 0.5805 - binary_accuracy: 0.7542 - val_loss: 0.6769 - val_binary_accuracy: 0.5698\n",
      "Epoch 3/200\n",
      "2/2 [==============================] - 0s 41ms/step - loss: 0.5572 - binary_accuracy: 0.7809 - val_loss: 0.6187 - val_binary_accuracy: 0.7151\n",
      "Epoch 4/200\n",
      "2/2 [==============================] - 0s 42ms/step - loss: 0.5232 - binary_accuracy: 0.8034 - val_loss: 0.6135 - val_binary_accuracy: 0.6480\n",
      "Epoch 5/200\n",
      "2/2 [==============================] - 0s 42ms/step - loss: 0.5169 - binary_accuracy: 0.8006 - val_loss: 0.6242 - val_binary_accuracy: 0.6536\n",
      "Epoch 6/200\n",
      "2/2 [==============================] - 0s 42ms/step - loss: 0.4446 - binary_accuracy: 0.8174 - val_loss: 0.6190 - val_binary_accuracy: 0.6425\n",
      "Epoch 7/200\n",
      "2/2 [==============================] - 0s 40ms/step - loss: 0.4813 - binary_accuracy: 0.8062 - val_loss: 0.6119 - val_binary_accuracy: 0.6536\n",
      "Epoch 8/200\n",
      "2/2 [==============================] - 0s 45ms/step - loss: 0.4521 - binary_accuracy: 0.8343 - val_loss: 0.6101 - val_binary_accuracy: 0.6425\n",
      "Epoch 9/200\n",
      "2/2 [==============================] - 0s 43ms/step - loss: 0.4796 - binary_accuracy: 0.8146 - val_loss: 0.6099 - val_binary_accuracy: 0.6425\n",
      "Epoch 10/200\n",
      "2/2 [==============================] - 0s 44ms/step - loss: 0.4321 - binary_accuracy: 0.8441 - val_loss: 0.6097 - val_binary_accuracy: 0.6425\n",
      "Epoch 11/200\n",
      "2/2 [==============================] - 0s 45ms/step - loss: 0.4461 - binary_accuracy: 0.8315 - val_loss: 0.6099 - val_binary_accuracy: 0.6480\n",
      "Epoch 12/200\n",
      "2/2 [==============================] - 0s 43ms/step - loss: 0.4235 - binary_accuracy: 0.8427 - val_loss: 0.6116 - val_binary_accuracy: 0.6480\n",
      "Epoch 13/200\n",
      "2/2 [==============================] - 0s 42ms/step - loss: 0.4272 - binary_accuracy: 0.8357 - val_loss: 0.6137 - val_binary_accuracy: 0.6425\n",
      "Epoch 14/200\n",
      "2/2 [==============================] - 0s 40ms/step - loss: 0.4316 - binary_accuracy: 0.8399 - val_loss: 0.6164 - val_binary_accuracy: 0.6480\n",
      "Epoch 15/200\n",
      "2/2 [==============================] - 0s 42ms/step - loss: 0.4005 - binary_accuracy: 0.8399 - val_loss: 0.6201 - val_binary_accuracy: 0.6425\n",
      "Epoch 16/200\n",
      "2/2 [==============================] - 0s 43ms/step - loss: 0.4198 - binary_accuracy: 0.8188 - val_loss: 0.6227 - val_binary_accuracy: 0.6425\n",
      "Epoch 17/200\n",
      "2/2 [==============================] - 0s 43ms/step - loss: 0.4178 - binary_accuracy: 0.8343 - val_loss: 0.6225 - val_binary_accuracy: 0.6425\n",
      "Epoch 18/200\n",
      "2/2 [==============================] - 0s 42ms/step - loss: 0.4193 - binary_accuracy: 0.8343 - val_loss: 0.6203 - val_binary_accuracy: 0.6425\n",
      "Best Validation Loss: 0.6097\n",
      "Best Validation Accuracy: 0.7151\n"
     ]
    }
   ],
   "source": [
    "#source1: https://www.kaggle.com/code/ryanholbrook/binary-classification\n",
    "#source2: https://www.kaggle.com/code/ahmedgabualnoor/exercise-binary-classification/edit\n",
    "\n",
    "from tensorflow import keras\n",
    "from tensorflow.keras import layers\n",
    "\n",
    "input_shape = [X_train.shape[1]]\n",
    "#Building Sequential Models\n",
    "model = keras.Sequential([\n",
    "    layers.BatchNormalization(input_shape=input_shape),\n",
    "    # the hidden ReLU layers\n",
    "    layers.Dense(256, activation='relu'),\n",
    "    layers.BatchNormalization(),\n",
    "    layers.Dropout(0.3),\n",
    "    layers.Dense(256, activation='relu'),\n",
    "    layers.BatchNormalization(),\n",
    "    layers.Dropout(0.3),\n",
    "    # the linear output layer \n",
    "    layers.Dense(1,activation='sigmoid'),\n",
    "])\n",
    "\n",
    "#add a loss function and optimizer with the model's compile\n",
    "model.compile(\n",
    "    optimizer='adam',\n",
    "    loss='binary_crossentropy',\n",
    "    metrics=['binary_accuracy'],\n",
    ")\n",
    "\n",
    "early_stopping = keras.callbacks.EarlyStopping(\n",
    "    # how many epochs to wait before stopping\n",
    "    patience=10,\n",
    "    # minimium amount of change to count as an improvement\n",
    "    min_delta=0.001,\n",
    "    restore_best_weights=True,\n",
    ")\n",
    "\n",
    "# Now we're ready to start the training! We've told Keras to feed the optimizer 512 rows of the training data \n",
    "# at a time (the batch_size) and to do that 200 times all the way through the dataset (the epochs).\n",
    "history = model.fit(\n",
    "    X_train, y_train,\n",
    "    validation_data=(X_test, y_test),\n",
    "    batch_size=512,\n",
    "    epochs=200,\n",
    "    callbacks=[early_stopping],\n",
    ")\n",
    "\n",
    "history_df = pd.DataFrame(history.history)\n",
    "\n",
    "print((\"Best Validation Loss: {:0.4f}\" +\\\n",
    "      \"\\nBest Validation Accuracy: {:0.4f}\")\\\n",
    "      .format(history_df['val_loss'].min(), \n",
    "              history_df['val_binary_accuracy'].max()))"
   ]
  },
  {
   "cell_type": "markdown",
   "id": "3a072aef",
   "metadata": {
    "papermill": {
     "duration": 0.019831,
     "end_time": "2022-08-11T17:35:29.889715",
     "exception": false,
     "start_time": "2022-08-11T17:35:29.869884",
     "status": "completed"
    },
    "tags": []
   },
   "source": [
    "# **Module Results**\n",
    "* Decision Tree Classifier         (0.77)\n",
    "* Nearest Neighbors Classifier     (0.73)\n",
    "* ***Ramdom Forest Classifier         (0.81)***\n",
    "* Naive Bayes Classifier           (0.79)\n",
    "* Support vector machine Classifier (0.68)\n",
    "* Logistic Regression Classifier (0.80)\n",
    "\n",
    "\n",
    "\n",
    "\n"
   ]
  }
 ],
 "metadata": {
  "kernelspec": {
   "display_name": "Python 3",
   "language": "python",
   "name": "python3"
  },
  "language_info": {
   "codemirror_mode": {
    "name": "ipython",
    "version": 3
   },
   "file_extension": ".py",
   "mimetype": "text/x-python",
   "name": "python",
   "nbconvert_exporter": "python",
   "pygments_lexer": "ipython3",
   "version": "3.7.12"
  },
  "papermill": {
   "default_parameters": {},
   "duration": 29.4778,
   "end_time": "2022-08-11T17:35:32.681348",
   "environment_variables": {},
   "exception": null,
   "input_path": "__notebook__.ipynb",
   "output_path": "__notebook__.ipynb",
   "parameters": {},
   "start_time": "2022-08-11T17:35:03.203548",
   "version": "2.3.4"
  }
 },
 "nbformat": 4,
 "nbformat_minor": 5
}
